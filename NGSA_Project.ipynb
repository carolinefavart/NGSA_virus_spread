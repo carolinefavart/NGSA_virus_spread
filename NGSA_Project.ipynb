{
 "cells": [
  {
   "cell_type": "code",
   "execution_count": 62,
   "metadata": {
    "scrolled": true
   },
   "outputs": [],
   "source": [
    "import pandas as pd\n",
    "import networkx as nx\n",
    "from math import exp\n",
    "import matplotlib.pyplot as plt\n",
    "import numpy as np\n",
    "from itertools import count"
   ]
  },
  {
   "cell_type": "code",
   "execution_count": 40,
   "metadata": {},
   "outputs": [
    {
     "name": "stdout",
     "output_type": "stream",
     "text": [
      "Number of nodes 151\n",
      "Number of edges 3622\n"
     ]
    }
   ],
   "source": [
    "nodes = pd.read_csv('routes.csv', header=None, names=['i', 'j'])\n",
    "g = nx.from_pandas_edgelist(nodes, 'i', 'j',create_using=nx.DiGraph())\n",
    "print('Number of nodes', g.number_of_nodes())\n",
    "print('Number of edges', g.number_of_edges())"
   ]
  },
  {
   "cell_type": "code",
   "execution_count": 41,
   "metadata": {},
   "outputs": [
    {
     "data": {
      "text/html": [
       "<div>\n",
       "<style scoped>\n",
       "    .dataframe tbody tr th:only-of-type {\n",
       "        vertical-align: middle;\n",
       "    }\n",
       "\n",
       "    .dataframe tbody tr th {\n",
       "        vertical-align: top;\n",
       "    }\n",
       "\n",
       "    .dataframe thead th {\n",
       "        text-align: right;\n",
       "    }\n",
       "</style>\n",
       "<table border=\"1\" class=\"dataframe\">\n",
       "  <thead>\n",
       "    <tr style=\"text-align: right;\">\n",
       "      <th></th>\n",
       "      <th>population</th>\n",
       "      <th>travellers</th>\n",
       "      <th>hdi</th>\n",
       "    </tr>\n",
       "    <tr>\n",
       "      <th>country</th>\n",
       "      <th></th>\n",
       "      <th></th>\n",
       "      <th></th>\n",
       "    </tr>\n",
       "  </thead>\n",
       "  <tbody>\n",
       "    <tr>\n",
       "      <th>Afghanistan</th>\n",
       "      <td>32760000.0</td>\n",
       "      <td>37113.596154</td>\n",
       "      <td>0.498</td>\n",
       "    </tr>\n",
       "    <tr>\n",
       "      <th>Albania</th>\n",
       "      <td>2900000.0</td>\n",
       "      <td>79730.769231</td>\n",
       "      <td>0.773</td>\n",
       "    </tr>\n",
       "    <tr>\n",
       "      <th>Algeria</th>\n",
       "      <td>39100000.0</td>\n",
       "      <td>54596.153846</td>\n",
       "      <td>0.747</td>\n",
       "    </tr>\n",
       "    <tr>\n",
       "      <th>Angola</th>\n",
       "      <td>26920000.0</td>\n",
       "      <td>23932.519231</td>\n",
       "      <td>0.581</td>\n",
       "    </tr>\n",
       "    <tr>\n",
       "      <th>Antigua and Barbuda</th>\n",
       "      <td>98000.0</td>\n",
       "      <td>19996.326923</td>\n",
       "      <td>0.780</td>\n",
       "    </tr>\n",
       "  </tbody>\n",
       "</table>\n",
       "</div>"
      ],
      "text/plain": [
       "                     population    travellers    hdi\n",
       "country                                             \n",
       "Afghanistan          32760000.0  37113.596154  0.498\n",
       "Albania               2900000.0  79730.769231  0.773\n",
       "Algeria              39100000.0  54596.153846  0.747\n",
       "Angola               26920000.0  23932.519231  0.581\n",
       "Antigua and Barbuda     98000.0  19996.326923  0.780"
      ]
     },
     "execution_count": 41,
     "metadata": {},
     "output_type": "execute_result"
    }
   ],
   "source": [
    "# We have a dataframe of countries (nodes)\n",
    "countries = pd.read_csv('data.csv')\n",
    "countries.set_index('country', inplace=True)\n",
    "countries['population'] = 1000000*countries['population']\n",
    "# Travellers are for an entire year, but our timeline is weekly\n",
    "countries['travellers'] = countries['travellers']/52\n",
    "\n",
    "countries.head()"
   ]
  },
  {
   "cell_type": "code",
   "execution_count": 44,
   "metadata": {},
   "outputs": [
    {
     "name": "stdout",
     "output_type": "stream",
     "text": [
      "Albania's neighbors : ['Austria', 'Germany', 'Greece', 'Italy', 'Slovenia', 'Turkey', 'United Kingdom']\n"
     ]
    },
    {
     "data": {
      "text/html": [
       "<div>\n",
       "<style scoped>\n",
       "    .dataframe tbody tr th:only-of-type {\n",
       "        vertical-align: middle;\n",
       "    }\n",
       "\n",
       "    .dataframe tbody tr th {\n",
       "        vertical-align: top;\n",
       "    }\n",
       "\n",
       "    .dataframe thead th {\n",
       "        text-align: right;\n",
       "    }\n",
       "</style>\n",
       "<table border=\"1\" class=\"dataframe\">\n",
       "  <thead>\n",
       "    <tr style=\"text-align: right;\">\n",
       "      <th></th>\n",
       "      <th>population</th>\n",
       "      <th>travellers</th>\n",
       "      <th>hdi</th>\n",
       "      <th>sum_travel_neighbors</th>\n",
       "    </tr>\n",
       "    <tr>\n",
       "      <th>country</th>\n",
       "      <th></th>\n",
       "      <th></th>\n",
       "      <th></th>\n",
       "      <th></th>\n",
       "    </tr>\n",
       "  </thead>\n",
       "  <tbody>\n",
       "    <tr>\n",
       "      <th>Afghanistan</th>\n",
       "      <td>32760000.0</td>\n",
       "      <td>37113.596154</td>\n",
       "      <td>0.498</td>\n",
       "      <td>2.576400e+06</td>\n",
       "    </tr>\n",
       "    <tr>\n",
       "      <th>Albania</th>\n",
       "      <td>2900000.0</td>\n",
       "      <td>79730.769231</td>\n",
       "      <td>0.773</td>\n",
       "      <td>3.826346e+06</td>\n",
       "    </tr>\n",
       "    <tr>\n",
       "      <th>Algeria</th>\n",
       "      <td>39100000.0</td>\n",
       "      <td>54596.153846</td>\n",
       "      <td>0.747</td>\n",
       "      <td>1.192336e+07</td>\n",
       "    </tr>\n",
       "    <tr>\n",
       "      <th>Angola</th>\n",
       "      <td>26920000.0</td>\n",
       "      <td>23932.519231</td>\n",
       "      <td>0.581</td>\n",
       "      <td>9.411293e+06</td>\n",
       "    </tr>\n",
       "    <tr>\n",
       "      <th>Antigua and Barbuda</th>\n",
       "      <td>98000.0</td>\n",
       "      <td>19996.326923</td>\n",
       "      <td>0.780</td>\n",
       "      <td>6.018484e+06</td>\n",
       "    </tr>\n",
       "  </tbody>\n",
       "</table>\n",
       "</div>"
      ],
      "text/plain": [
       "                     population    travellers    hdi  sum_travel_neighbors\n",
       "country                                                                   \n",
       "Afghanistan          32760000.0  37113.596154  0.498          2.576400e+06\n",
       "Albania               2900000.0  79730.769231  0.773          3.826346e+06\n",
       "Algeria              39100000.0  54596.153846  0.747          1.192336e+07\n",
       "Angola               26920000.0  23932.519231  0.581          9.411293e+06\n",
       "Antigua and Barbuda     98000.0  19996.326923  0.780          6.018484e+06"
      ]
     },
     "execution_count": 44,
     "metadata": {},
     "output_type": "execute_result"
    }
   ],
   "source": [
    "# For each country, we need the travellers going from the neighboring countries\n",
    "def return_list_neighbors(i, g):\n",
    "    return [j for j in g.neighbors(i)]\n",
    "print('Albania\\'s neighbors :', return_list_neighbors('Albania', g))\n",
    "\n",
    "# For all countries\n",
    "def compute_sum_travelers_neighboring_countries(g):\n",
    "    sum_travel_neighbors = []\n",
    "    for i in countries.index:\n",
    "        neighbors = return_list_neighbors(i, g)\n",
    "        sum_n = 0\n",
    "        for n in neighbors:\n",
    "            sum_n += countries.loc[n]['travellers']\n",
    "        sum_travel_neighbors.append(sum_n)\n",
    "    return sum_travel_neighbors\n",
    "countries['sum_travel_neighbors'] = compute_sum_travelers_neighboring_countries(g)\n",
    "\n",
    "countries.head()"
   ]
  },
  {
   "cell_type": "code",
   "execution_count": 43,
   "metadata": {},
   "outputs": [
    {
     "name": "stdout",
     "output_type": "stream",
     "text": [
      "France - Singapore : {'weight': 9472.863442029653}\n",
      "Singapore - France : {'weight': 12656.470084309465}\n"
     ]
    }
   ],
   "source": [
    "# W_ij the weight between country i and j represents the number of travellers between i and j\n",
    "def compute_edge_weight(i, j):\n",
    "    return countries.loc[i]['travellers']*countries.loc[j]['travellers']/(countries.loc[i]['sum_travel_neighbors'])\n",
    "        \n",
    "def add_edge_weights():\n",
    "    for e in g.edges():\n",
    "        g[e[0]][e[1]]['weight'] = compute_edge_weight(e[0], e[1])\n",
    "\n",
    "add_edge_weights()\n",
    "print('France - Singapore :', g['France']['Singapore'])\n",
    "print('Singapore - France :', g['Singapore']['France'])"
   ]
  },
  {
   "cell_type": "code",
   "execution_count": 52,
   "metadata": {},
   "outputs": [],
   "source": [
    "# Initialisation for our model :\n",
    "r0 = 5\n",
    "alpha = 0.06\n",
    "beta = 0.4\n",
    "period = 10\n",
    "mortality_rate = 0.15\n",
    "country_start = 'France'\n",
    "nb_infected_start = 1\n",
    "\n",
    "# # Initialisation for t=0 :\n",
    "countries['incubation0'] = np.zeros(countries.shape[0])\n",
    "countries['sick0'] = np.zeros(countries.shape[0])\n",
    "countries['dead0'] = np.zeros(countries.shape[0])\n",
    "countries['infected0'] = np.zeros(countries.shape[0])\n",
    "countries['healthy0'] = countries['population']\n",
    "countries['incubation0'] = np.zeros(countries.shape[0])\n",
    "\n",
    "# We infect the starting country with a certain number of people\n",
    "countries.loc[country_start]['infected0'] = nb_infected_start\n",
    "countries.loc[country_start]['incubation0'] = nb_infected_start\n",
    "countries.loc[country_start]['healthy0'] = countries.loc[country_start]['population'] - countries.loc[country_start]['incubation0']"
   ]
  },
  {
   "cell_type": "markdown",
   "metadata": {},
   "source": [
    "The reproduction number ri (average number of people that an incubated person will infect in a week) should :\n",
    "- be inversly proportionate to the HDI (depending on the beta)\n",
    "- Decrease with time (as awareness increases, and the immune system adjusts, etc) (depending on the alpha)"
   ]
  },
  {
   "cell_type": "code",
   "execution_count": 53,
   "metadata": {},
   "outputs": [
    {
     "name": "stdout",
     "output_type": "stream",
     "text": [
      "min HDI:  0.354\n",
      "max HDI:  0.946\n",
      "max HDI:  0.747\n"
     ]
    }
   ],
   "source": [
    "print('min HDI: ',countries.hdi.min())\n",
    "print('max HDI: ',countries.hdi.max())\n",
    "print('max HDI: ',countries.hdi.median())\n"
   ]
  },
  {
   "cell_type": "code",
   "execution_count": 70,
   "metadata": {},
   "outputs": [
    {
     "name": "stdout",
     "output_type": "stream",
     "text": [
      "Country \t HDI \t RI\n",
      "Afghanistan : \t 0.498 \t 6.027027027027026\n",
      "France : \t 0.894 \t 3.35135135135135\n"
     ]
    }
   ],
   "source": [
    "# Contamination decreases with time\n",
    "def time(t):\n",
    "    return exp(-alpha*t)\n",
    "\n",
    "# We calculate the average number infected by an incubated person in a week\n",
    "# The higher the HDI of a country, the less people will be infected\n",
    "def reproduction_number_by_country(t):\n",
    "    minim=countries.hdi.min()\n",
    "    maxim=countries.hdi.max()\n",
    "    # Affine function of HDI :\n",
    "    a=-2*beta*r0/(maxim-minim)\n",
    "    b=beta*r0-a*minim\n",
    "    return (r0 +a*countries['hdi'] + b)\n",
    "\n",
    "ri = reproduction_number_by_country(1)\n",
    "print('Country \\t HDI \\t RI')\n",
    "print('Afghanistan : \\t', countries.loc['Afghanistan']['hdi'], '\\t',ri['Afghanistan'])\n",
    "print('France : \\t', countries.loc['France']['hdi'], '\\t',ri['France'])"
   ]
  },
  {
   "cell_type": "code",
   "execution_count": 71,
   "metadata": {},
   "outputs": [
    {
     "data": {
      "text/plain": [
       "[<matplotlib.lines.Line2D at 0xa18247f28>]"
      ]
     },
     "execution_count": 71,
     "metadata": {},
     "output_type": "execute_result"
    },
    {
     "data": {
      "image/png": "[encoded data removed]",
      "text/plain": [
       "<Figure size 432x288 with 1 Axes>"
      ]
     },
     "metadata": {
      "needs_background": "light"
     },
     "output_type": "display_data"
    }
   ],
   "source": [
    "RNC_time=[reproduction_number_by_country(t)['France'] for t in range(52)]\n",
    "exp_test=[time(t) for t in range(52)]\n",
    "plt.plot(RNC_time)"
   ]
  },
  {
   "cell_type": "code",
   "execution_count": 72,
   "metadata": {},
   "outputs": [
    {
     "data": {
      "text/plain": [
       "(array([25., 17., 24., 25., 18., 12., 10., 12.,  6.,  2.]),\n",
       " array([4.81053324, 4.92203816, 5.03354308, 5.145048  , 5.25655292,\n",
       "        5.36805784, 5.47956276, 5.59106768, 5.7025726 , 5.81407752,\n",
       "        5.92558245]),\n",
       " <a list of 10 Patch objects>)"
      ]
     },
     "execution_count": 72,
     "metadata": {},
     "output_type": "execute_result"
    },
    {
     "data": {
      "image/png": "[encoded data removed]",
      "text/plain": [
       "<Figure size 432x288 with 1 Axes>"
      ]
     },
     "metadata": {
      "needs_background": "light"
     },
     "output_type": "display_data"
    }
   ],
   "source": [
    "test1 = ((1 -beta*countries['hdi'])*r0 + beta*r0)*exp(-alpha*1)\n",
    "plt.hist(test1)"
   ]
  },
  {
   "cell_type": "code",
   "execution_count": 73,
   "metadata": {},
   "outputs": [
    {
     "data": {
      "text/plain": [
       "(array([25., 17., 24., 25., 18., 12., 10., 12.,  6.,  2.]),\n",
       " array([3.78409947, 3.87181235, 3.95952523, 4.0472381 , 4.13495098,\n",
       "        4.22266386, 4.31037674, 4.39808961, 4.48580249, 4.57351537,\n",
       "        4.66122824]),\n",
       " <a list of 10 Patch objects>)"
      ]
     },
     "execution_count": 73,
     "metadata": {},
     "output_type": "execute_result"
    },
    {
     "data": {
      "image/png": "[encoded data removed]",
      "text/plain": [
       "<Figure size 432x288 with 1 Axes>"
      ]
     },
     "metadata": {
      "needs_background": "light"
     },
     "output_type": "display_data"
    }
   ],
   "source": [
    "test5 = ((1 -beta*countries['hdi'])*r0 + beta*r0)*exp(-alpha*5)\n",
    "plt.hist(test5)"
   ]
  },
  {
   "cell_type": "code",
   "execution_count": 74,
   "metadata": {},
   "outputs": [
    {
     "ename": "KeyError",
     "evalue": "'Afghanistan'",
     "output_type": "error",
     "traceback": [
      "\u001b[0;31m---------------------------------------------------------------------------\u001b[0m",
      "\u001b[0;31mKeyError\u001b[0m                                  Traceback (most recent call last)",
      "\u001b[0;32m<ipython-input-74-4a7fe2bb6db8>\u001b[0m in \u001b[0;36m<module>\u001b[0;34m\u001b[0m\n\u001b[1;32m     19\u001b[0m     \u001b[0;32mreturn\u001b[0m \u001b[0mincubated_coming\u001b[0m\u001b[0;34m\u001b[0m\u001b[0;34m\u001b[0m\u001b[0m\n\u001b[1;32m     20\u001b[0m \u001b[0;34m\u001b[0m\u001b[0m\n\u001b[0;32m---> 21\u001b[0;31m \u001b[0mincubated_coming\u001b[0m \u001b[0;34m=\u001b[0m \u001b[0mnumber_incubated_coming\u001b[0m\u001b[0;34m(\u001b[0m\u001b[0;36m1\u001b[0m\u001b[0;34m)\u001b[0m\u001b[0;34m\u001b[0m\u001b[0;34m\u001b[0m\u001b[0m\n\u001b[0m\u001b[1;32m     22\u001b[0m \u001b[0mprint\u001b[0m\u001b[0;34m(\u001b[0m\u001b[0;34m'Number of incubated staying in France :'\u001b[0m\u001b[0;34m,\u001b[0m \u001b[0mnumber_incubated_staying\u001b[0m\u001b[0;34m(\u001b[0m\u001b[0;36m1\u001b[0m\u001b[0;34m)\u001b[0m\u001b[0;34m[\u001b[0m\u001b[0;34m'France'\u001b[0m\u001b[0;34m]\u001b[0m\u001b[0;34m)\u001b[0m\u001b[0;34m\u001b[0m\u001b[0;34m\u001b[0m\u001b[0m\n\u001b[1;32m     23\u001b[0m \u001b[0mprint\u001b[0m\u001b[0;34m(\u001b[0m\u001b[0;34m'Number of incubated coming to France :'\u001b[0m\u001b[0;34m,\u001b[0m \u001b[0mincubated_coming\u001b[0m\u001b[0;34m[\u001b[0m\u001b[0;34m'France'\u001b[0m\u001b[0;34m]\u001b[0m\u001b[0;34m)\u001b[0m\u001b[0;34m\u001b[0m\u001b[0;34m\u001b[0m\u001b[0m\n",
      "\u001b[0;32m<ipython-input-74-4a7fe2bb6db8>\u001b[0m in \u001b[0;36mnumber_incubated_coming\u001b[0;34m(t)\u001b[0m\n\u001b[1;32m     14\u001b[0m         \u001b[0msum\u001b[0m \u001b[0;34m=\u001b[0m \u001b[0;36m0\u001b[0m\u001b[0;34m\u001b[0m\u001b[0;34m\u001b[0m\u001b[0m\n\u001b[1;32m     15\u001b[0m         \u001b[0;32mfor\u001b[0m \u001b[0mj\u001b[0m \u001b[0;32min\u001b[0m \u001b[0mneighbors\u001b[0m\u001b[0;34m:\u001b[0m\u001b[0;34m\u001b[0m\u001b[0;34m\u001b[0m\u001b[0m\n\u001b[0;32m---> 16\u001b[0;31m             sum += g[j][i]['weight']*countries.loc[j]['incubation'+str(t-1)]/(countries.loc[j]['population'] - \n\u001b[0m\u001b[1;32m     17\u001b[0m                                 countries.loc[j]['dead'+str(t-1)] - countries.loc[j]['sick'+str(t-1)])\n\u001b[1;32m     18\u001b[0m         \u001b[0mincubated_coming\u001b[0m\u001b[0;34m[\u001b[0m\u001b[0mi\u001b[0m\u001b[0;34m]\u001b[0m \u001b[0;34m=\u001b[0m \u001b[0msum\u001b[0m\u001b[0;34m\u001b[0m\u001b[0;34m\u001b[0m\u001b[0m\n",
      "\u001b[0;32m/anaconda2/envs/python3/lib/python3.6/site-packages/networkx/classes/coreviews.py\u001b[0m in \u001b[0;36m__getitem__\u001b[0;34m(self, key)\u001b[0m\n\u001b[1;32m     52\u001b[0m \u001b[0;34m\u001b[0m\u001b[0m\n\u001b[1;32m     53\u001b[0m     \u001b[0;32mdef\u001b[0m \u001b[0m__getitem__\u001b[0m\u001b[0;34m(\u001b[0m\u001b[0mself\u001b[0m\u001b[0;34m,\u001b[0m \u001b[0mkey\u001b[0m\u001b[0;34m)\u001b[0m\u001b[0;34m:\u001b[0m\u001b[0;34m\u001b[0m\u001b[0;34m\u001b[0m\u001b[0m\n\u001b[0;32m---> 54\u001b[0;31m         \u001b[0;32mreturn\u001b[0m \u001b[0mself\u001b[0m\u001b[0;34m.\u001b[0m\u001b[0m_atlas\u001b[0m\u001b[0;34m[\u001b[0m\u001b[0mkey\u001b[0m\u001b[0;34m]\u001b[0m\u001b[0;34m\u001b[0m\u001b[0;34m\u001b[0m\u001b[0m\n\u001b[0m\u001b[1;32m     55\u001b[0m \u001b[0;34m\u001b[0m\u001b[0m\n\u001b[1;32m     56\u001b[0m     \u001b[0;32mdef\u001b[0m \u001b[0mcopy\u001b[0m\u001b[0;34m(\u001b[0m\u001b[0mself\u001b[0m\u001b[0;34m)\u001b[0m\u001b[0;34m:\u001b[0m\u001b[0;34m\u001b[0m\u001b[0;34m\u001b[0m\u001b[0m\n",
      "\u001b[0;31mKeyError\u001b[0m: 'Afghanistan'"
     ]
    }
   ],
   "source": [
    "# Incubated people staying in the country at time t\n",
    "def number_incubated_staying(t):\n",
    "    incubated_staying = {}\n",
    "    for i in countries.index:\n",
    "        incubated_staying[i] = countries.loc[i]['incubation'+str(t-1)]*(1 - \n",
    "                    countries.loc[i]['travellers']/(countries.loc[i]['population'] - \n",
    "                    countries.loc[i]['dead'+str(t-1)] - countries.loc[i]['sick'+str(t-1)]))\n",
    "    return incubated_staying\n",
    "# Incubated people coming to the country at time t\n",
    "def number_incubated_coming(t):\n",
    "    incubated_coming = {}\n",
    "    for i in countries.index:\n",
    "        neighbors = return_list_neighbors(i, g)\n",
    "        sum = 0\n",
    "        for j in neighbors:\n",
    "            sum += g[j][i]['weight']*countries.loc[j]['incubation'+str(t-1)]/(countries.loc[j]['population'] - \n",
    "                                countries.loc[j]['dead'+str(t-1)] - countries.loc[j]['sick'+str(t-1)])\n",
    "        incubated_coming[i] = sum\n",
    "    return incubated_coming\n",
    "\n",
    "incubated_coming = number_incubated_coming(1)\n",
    "print('Number of incubated staying in France :', number_incubated_staying(1)['France'])\n",
    "print('Number of incubated coming to France :', incubated_coming['France'])\n",
    "print('Number of incubated coming to Germany :', incubated_coming['Germany'])\n",
    "print('Number of incubated coming to the UK :', incubated_coming['United Kingdom'])\n",
    "\n",
    "sum = 0\n",
    "for n in return_list_neighbors('France', g):\n",
    "    sum += incubated_coming[n]\n",
    "print('For all of France\\' neighbors :', sum)"
   ]
  },
  {
   "cell_type": "code",
   "execution_count": 75,
   "metadata": {},
   "outputs": [
    {
     "name": "stdout",
     "output_type": "stream",
     "text": [
      "Country : \t Infected \t Dead\n"
     ]
    },
    {
     "ename": "KeyError",
     "evalue": "'Afghanistan'",
     "output_type": "error",
     "traceback": [
      "\u001b[0;31m---------------------------------------------------------------------------\u001b[0m",
      "\u001b[0;31mKeyError\u001b[0m                                  Traceback (most recent call last)",
      "\u001b[0;32m<ipython-input-75-04d8ead172f5>\u001b[0m in \u001b[0;36m<module>\u001b[0;34m\u001b[0m\n\u001b[1;32m     24\u001b[0m \u001b[0mprint\u001b[0m\u001b[0;34m(\u001b[0m\u001b[0;34m'Country : \\t Infected \\t Dead'\u001b[0m\u001b[0;34m)\u001b[0m\u001b[0;34m\u001b[0m\u001b[0;34m\u001b[0m\u001b[0m\n\u001b[1;32m     25\u001b[0m \u001b[0;32mfor\u001b[0m \u001b[0mp\u001b[0m \u001b[0;32min\u001b[0m \u001b[0mrange\u001b[0m\u001b[0;34m(\u001b[0m\u001b[0;36m1\u001b[0m\u001b[0;34m,\u001b[0m \u001b[0mperiod\u001b[0m\u001b[0;34m)\u001b[0m\u001b[0;34m:\u001b[0m\u001b[0;34m\u001b[0m\u001b[0;34m\u001b[0m\u001b[0m\n\u001b[0;32m---> 26\u001b[0;31m     \u001b[0minfection_impact\u001b[0m\u001b[0;34m(\u001b[0m\u001b[0mp\u001b[0m\u001b[0;34m)\u001b[0m\u001b[0;34m\u001b[0m\u001b[0;34m\u001b[0m\u001b[0m\n\u001b[0m\u001b[1;32m     27\u001b[0m     \u001b[0mprint\u001b[0m\u001b[0;34m(\u001b[0m\u001b[0mp\u001b[0m\u001b[0;34m)\u001b[0m\u001b[0;34m\u001b[0m\u001b[0;34m\u001b[0m\u001b[0m\n\u001b[1;32m     28\u001b[0m     print('France : \\t', round(countries.loc['France']['infected'+str(p)], 3), '\\t',\n",
      "\u001b[0;32m<ipython-input-75-04d8ead172f5>\u001b[0m in \u001b[0;36minfection_impact\u001b[0;34m(t)\u001b[0m\n\u001b[1;32m      2\u001b[0m     \u001b[0mri\u001b[0m \u001b[0;34m=\u001b[0m \u001b[0mreproduction_number_by_country\u001b[0m\u001b[0;34m(\u001b[0m\u001b[0mt\u001b[0m\u001b[0;34m)\u001b[0m\u001b[0;34m\u001b[0m\u001b[0;34m\u001b[0m\u001b[0m\n\u001b[1;32m      3\u001b[0m     \u001b[0mincubated_staying\u001b[0m \u001b[0;34m=\u001b[0m \u001b[0mnumber_incubated_staying\u001b[0m\u001b[0;34m(\u001b[0m\u001b[0mt\u001b[0m\u001b[0;34m)\u001b[0m\u001b[0;34m\u001b[0m\u001b[0;34m\u001b[0m\u001b[0m\n\u001b[0;32m----> 4\u001b[0;31m     \u001b[0mincubated_coming\u001b[0m \u001b[0;34m=\u001b[0m \u001b[0mnumber_incubated_coming\u001b[0m\u001b[0;34m(\u001b[0m\u001b[0mt\u001b[0m\u001b[0;34m)\u001b[0m\u001b[0;34m\u001b[0m\u001b[0;34m\u001b[0m\u001b[0m\n\u001b[0m\u001b[1;32m      5\u001b[0m \u001b[0;34m\u001b[0m\u001b[0m\n\u001b[1;32m      6\u001b[0m     \u001b[0mcountries\u001b[0m\u001b[0;34m[\u001b[0m\u001b[0;34m'dead'\u001b[0m\u001b[0;34m+\u001b[0m\u001b[0mstr\u001b[0m\u001b[0;34m(\u001b[0m\u001b[0mt\u001b[0m\u001b[0;34m)\u001b[0m\u001b[0;34m]\u001b[0m \u001b[0;34m=\u001b[0m \u001b[0mmortality_rate\u001b[0m\u001b[0;34m*\u001b[0m\u001b[0mcountries\u001b[0m\u001b[0;34m[\u001b[0m\u001b[0;34m'sick'\u001b[0m\u001b[0;34m+\u001b[0m\u001b[0mstr\u001b[0m\u001b[0;34m(\u001b[0m\u001b[0mt\u001b[0m\u001b[0;34m-\u001b[0m\u001b[0;36m1\u001b[0m\u001b[0;34m)\u001b[0m\u001b[0;34m]\u001b[0m\u001b[0;34m\u001b[0m\u001b[0;34m\u001b[0m\u001b[0m\n",
      "\u001b[0;32m<ipython-input-74-4a7fe2bb6db8>\u001b[0m in \u001b[0;36mnumber_incubated_coming\u001b[0;34m(t)\u001b[0m\n\u001b[1;32m     14\u001b[0m         \u001b[0msum\u001b[0m \u001b[0;34m=\u001b[0m \u001b[0;36m0\u001b[0m\u001b[0;34m\u001b[0m\u001b[0;34m\u001b[0m\u001b[0m\n\u001b[1;32m     15\u001b[0m         \u001b[0;32mfor\u001b[0m \u001b[0mj\u001b[0m \u001b[0;32min\u001b[0m \u001b[0mneighbors\u001b[0m\u001b[0;34m:\u001b[0m\u001b[0;34m\u001b[0m\u001b[0;34m\u001b[0m\u001b[0m\n\u001b[0;32m---> 16\u001b[0;31m             sum += g[j][i]['weight']*countries.loc[j]['incubation'+str(t-1)]/(countries.loc[j]['population'] - \n\u001b[0m\u001b[1;32m     17\u001b[0m                                 countries.loc[j]['dead'+str(t-1)] - countries.loc[j]['sick'+str(t-1)])\n\u001b[1;32m     18\u001b[0m         \u001b[0mincubated_coming\u001b[0m\u001b[0;34m[\u001b[0m\u001b[0mi\u001b[0m\u001b[0;34m]\u001b[0m \u001b[0;34m=\u001b[0m \u001b[0msum\u001b[0m\u001b[0;34m\u001b[0m\u001b[0;34m\u001b[0m\u001b[0m\n",
      "\u001b[0;32m/anaconda2/envs/python3/lib/python3.6/site-packages/networkx/classes/coreviews.py\u001b[0m in \u001b[0;36m__getitem__\u001b[0;34m(self, key)\u001b[0m\n\u001b[1;32m     52\u001b[0m \u001b[0;34m\u001b[0m\u001b[0m\n\u001b[1;32m     53\u001b[0m     \u001b[0;32mdef\u001b[0m \u001b[0m__getitem__\u001b[0m\u001b[0;34m(\u001b[0m\u001b[0mself\u001b[0m\u001b[0;34m,\u001b[0m \u001b[0mkey\u001b[0m\u001b[0;34m)\u001b[0m\u001b[0;34m:\u001b[0m\u001b[0;34m\u001b[0m\u001b[0;34m\u001b[0m\u001b[0m\n\u001b[0;32m---> 54\u001b[0;31m         \u001b[0;32mreturn\u001b[0m \u001b[0mself\u001b[0m\u001b[0;34m.\u001b[0m\u001b[0m_atlas\u001b[0m\u001b[0;34m[\u001b[0m\u001b[0mkey\u001b[0m\u001b[0;34m]\u001b[0m\u001b[0;34m\u001b[0m\u001b[0;34m\u001b[0m\u001b[0m\n\u001b[0m\u001b[1;32m     55\u001b[0m \u001b[0;34m\u001b[0m\u001b[0m\n\u001b[1;32m     56\u001b[0m     \u001b[0;32mdef\u001b[0m \u001b[0mcopy\u001b[0m\u001b[0;34m(\u001b[0m\u001b[0mself\u001b[0m\u001b[0;34m)\u001b[0m\u001b[0;34m:\u001b[0m\u001b[0;34m\u001b[0m\u001b[0;34m\u001b[0m\u001b[0m\n",
      "\u001b[0;31mKeyError\u001b[0m: 'Afghanistan'"
     ]
    }
   ],
   "source": [
    "def infection_impact(t):\n",
    "    ri = reproduction_number_by_country(t)\n",
    "    incubated_staying = number_incubated_staying(t)\n",
    "    incubated_coming = number_incubated_coming(t)\n",
    "    \n",
    "    countries['dead'+str(t)] = mortality_rate*countries['sick'+str(t-1)]\n",
    "    \n",
    "    infected = []\n",
    "    for i in countries.index:\n",
    "        tmp = (incubated_staying[i] + incubated_coming[i])*(1 + ri[i])\n",
    "        if tmp <= countries.loc[i]['population']:\n",
    "            infected.append(tmp)\n",
    "        else:\n",
    "            infected.append(countries.loc[i]['population'])\n",
    "    countries['infected'+str(t)] = infected\n",
    "    '''countries['infected'+str(t)] = [(incubated_staying[i] \n",
    "                + incubated_coming[i])*(1 + ri[i]) if ((incubated_staying[i] \n",
    "                + incubated_coming[i])*(1 + ri[i]) <= countries.loc[i]['population']) for i in countries.index]'''\n",
    "    \n",
    "    countries['healthy'+str(t)] = [countries.loc[i]['population'] - countries.loc[i]['infected'+str(t)] for i in countries.index]\n",
    "    countries['sick'+str(t)] = countries['incubation'+str(t - 1)] \n",
    "    countries['incubation'+str(t)] = countries['infected'+str(t)] - countries['sick'+str(t)]\n",
    "\n",
    "print('Country : \\t Infected \\t Dead')\n",
    "for p in range(1, period):\n",
    "    infection_impact(p)\n",
    "    print(p)\n",
    "    print('France : \\t', round(countries.loc['France']['infected'+str(p)], 3), '\\t',\n",
    "                      round(countries.loc['France']['dead'+str(p)], 3))\n",
    "    print('Germany : \\t', round(countries.loc['Germany']['infected'+str(p)], 3), '\\t',\n",
    "                       round(countries.loc['Germany']['dead'+str(p)], 3))\n",
    "    print('UK : \\t \\t', round(countries.loc['United Kingdom']['infected'+str(p)], 3), '\\t',\n",
    "                  round(countries.loc['United Kingdom']['dead'+str(p)], 3))\n",
    "    print('Afghanistan : \\t', round(countries.loc['Afghanistan']['infected'+str(p)], 3), '\\t',\n",
    "                           round(countries.loc['Afghanistan']['dead'+str(p)], 3))"
   ]
  },
  {
   "cell_type": "code",
   "execution_count": 76,
   "metadata": {},
   "outputs": [
    {
     "data": {
      "text/plain": [
       "population              3.276000e+07\n",
       "travellers              3.711360e+04\n",
       "hdi                     4.980000e-01\n",
       "sum_travel_neighbors    2.576400e+06\n",
       "incubation0             0.000000e+00\n",
       "sick0                   0.000000e+00\n",
       "dead0                   0.000000e+00\n",
       "infected0               0.000000e+00\n",
       "healthy0                3.276000e+07\n",
       "Name: Afghanistan, dtype: float64"
      ]
     },
     "execution_count": 76,
     "metadata": {},
     "output_type": "execute_result"
    }
   ],
   "source": [
    "countries.loc['Afghanistan']"
   ]
  },
  {
   "cell_type": "code",
   "execution_count": 52,
   "metadata": {},
   "outputs": [
    {
     "data": {
      "text/plain": [
       "{'Afghanistan': 1.9699431134236336,\n",
       " 'Azerbaijan': 27.379220690021295,\n",
       " 'India': 105.0286373737525,\n",
       " 'Iran': 78.84421464315055,\n",
       " 'Kuwait': 0.9446383046868136,\n",
       " 'Tajikistan': 0.006697447147391298,\n",
       " 'Turkey': 25.363304386356386,\n",
       " 'United Arab Emirates': 139.55313263453488,\n",
       " 'Albania': 0.5087592223614302,\n",
       " 'Austria': 29.74257759953861,\n",
       " 'Germany': 181.1042885147547,\n",
       " 'Greece': 23.735334372385257,\n",
       " 'Italy': 76.36903118301309,\n",
       " 'Slovenia': 18.328985830794924,\n",
       " 'United Kingdom': 132.58087380505927,\n",
       " 'Algeria': 17.967468861184237,\n",
       " 'Belgium': 32.88619289052178,\n",
       " 'Burkina Faso': 9.254931391830056,\n",
       " 'Canada': 90.48717751041171,\n",
       " 'China': 464.1072233135993,\n",
       " \"Cote d'Ivoire\": 23.04705268407456,\n",
       " 'Egypt': 55.28804233830122,\n",
       " 'France': 20282.016886901445,\n",
       " 'Jordan': 4.34409103106262,\n",
       " 'Lebanon': 8.410619100933754,\n",
       " 'Libya': 0.2884778213808937,\n",
       " 'Malta': 0.9825166402351122,\n",
       " 'Morocco': 28.5954797925655,\n",
       " 'Niger': 0.11858375862138495,\n",
       " 'Portugal': 4.502563514044857,\n",
       " 'Russia': 137.03979952166563,\n",
       " 'Saudi Arabia': 52.396951640272405,\n",
       " 'Senegal': 0.6673134844541725,\n",
       " 'Spain': 29.56970515862603,\n",
       " 'Switzerland': 26.040979875353646,\n",
       " 'Tunisia': 9.330546544140432,\n",
       " 'Angola': 6.108864571910044,\n",
       " 'Brazil': 32.29434438945559,\n",
       " 'Congo': 4.12722024508871,\n",
       " 'Cuba': 1.1202926876952528,\n",
       " 'Ethiopia': 45.30896110780298,\n",
       " 'Kenya': 23.51535353642699,\n",
       " 'Mozambique': 0.033283638973725986,\n",
       " 'Namibia': 0.012857993291137933,\n",
       " 'Netherlands': 39.56372294812907,\n",
       " 'South Africa': 64.83411010389332,\n",
       " 'Zimbabwe': 0.004589233292581905,\n",
       " 'Antigua and Barbuda': 1.802197759796314,\n",
       " 'Dominican Republic': 1.5122940013210688,\n",
       " 'Jamaica': 0.003514176013511301,\n",
       " 'Trinidad and Tobago': 0.08512048253620108,\n",
       " 'United States': 158.10568797436386,\n",
       " 'Argentina': 18.038646867848257,\n",
       " 'Bolivia': 0.013930780929279496,\n",
       " 'Chile': 8.458547705702653,\n",
       " 'Colombia': 13.120468026675983,\n",
       " 'Ecuador': 0.01411731883113211,\n",
       " 'Mexico': 58.14468867943742,\n",
       " 'Paraguay': 0.00166243500517371,\n",
       " 'Peru': 8.024492701929189,\n",
       " 'Uruguay': 0.008372415809518061,\n",
       " 'Venezuela': 19.587180724790123,\n",
       " 'Armenia': 3.9983820344085146,\n",
       " 'Belarus': 2.2044178240554864,\n",
       " 'Czech Republic': 12.134664921788508,\n",
       " 'Kazakhstan': 1.8942700011897822,\n",
       " 'Poland': 93.3248263397986,\n",
       " 'Ukraine': 74.62162534442061,\n",
       " 'Australia': 1.3406164973734367,\n",
       " 'Brunei': 0.1919429875583944,\n",
       " 'Fiji': 0.29254298483463187,\n",
       " 'Hong Kong': 71.13082787366045,\n",
       " 'Indonesia': 1.621094826231014,\n",
       " 'Japan': 40.728690546683495,\n",
       " 'Malaysia': 140.2508745696444,\n",
       " 'Mauritius': 0.7018803996224847,\n",
       " 'New Zealand': 0.1663202643639482,\n",
       " 'Philippines': 6.3361037293158144,\n",
       " 'Samoa': 0.00012767323852594297,\n",
       " 'Singapore': 18.806287804790326,\n",
       " 'Solomon Islands': 4.281773034571972e-05,\n",
       " 'South Korea': 148.80957189232896,\n",
       " 'Thailand': 22.9534234068806,\n",
       " 'Vanuatu': 3.0352446257832744e-06,\n",
       " 'Vietnam': 114.21953537467121,\n",
       " 'Bosnia and Herzegovina': 0.0003076860656266513,\n",
       " 'Bulgaria': 12.313947476160028,\n",
       " 'Croatia': 7.490321072145728,\n",
       " 'Cyprus': 3.0699739908534744,\n",
       " 'Denmark': 17.971447079899637,\n",
       " 'Finland': 18.61640783950632,\n",
       " 'Georgia': 9.72302909443456,\n",
       " 'Hungary': 42.21195634528234,\n",
       " 'Iraq': 0.06523481738884462,\n",
       " 'Ireland': 14.313167067414017,\n",
       " 'Israel': 11.986326169128528,\n",
       " 'Latvia': 4.774341603598203,\n",
       " 'Lithuania': 4.548961093205333,\n",
       " 'Luxembourg': 3.1388483568149996,\n",
       " 'Moldova': 3.744329772689182,\n",
       " 'Montenegro': 1.4290558704546072,\n",
       " 'Norway': 17.712621723214827,\n",
       " 'Romania': 35.933847267392586,\n",
       " 'Serbia': 7.45435533074567,\n",
       " 'Slovakia': 0.02846822633681064,\n",
       " 'Sweden': 24.485135990636152,\n",
       " 'Turkmenistan': 0.24237028413326683,\n",
       " 'Uzbekistan': 9.231323534124233,\n",
       " 'Bahamas': 0.007409939095210879,\n",
       " 'Panama': 2.565694381697345,\n",
       " 'Bahrain': 11.69315094448254,\n",
       " 'Oman': 9.39855395610888,\n",
       " 'Pakistan': 1.5467002329943107,\n",
       " 'Sri Lanka': 4.323954456699635,\n",
       " 'Sudan': 0.06794757365190171,\n",
       " 'Yemen': 0.20449100938737502,\n",
       " 'Bangladesh': 0.5403758642051255,\n",
       " 'Bhutan': 1.5004292683542857e-05,\n",
       " 'Nepal': 0.08032779580245406,\n",
       " 'Benin': 0.6205359544157195,\n",
       " 'Cameroon': 1.3486264153732592,\n",
       " 'Estonia': 3.419000408184054,\n",
       " 'Iceland': 0.8205176809205817,\n",
       " 'Rwanda': 0.08260447312072998,\n",
       " 'Sierra Leone': 0.6264715137928412,\n",
       " 'Gabon': 0.49772921774925577,\n",
       " 'Ghana': 0.055104982092463554,\n",
       " 'Nigeria': 17.630294911561514,\n",
       " 'Togo': 4.337583784297512,\n",
       " 'Botswana': 0.00035754093062574893,\n",
       " 'Zambia': 0.001341899214191707,\n",
       " 'Cape Verde': 2.1770677850743474,\n",
       " 'Suriname': 0.0006562388550846953,\n",
       " 'Cambodia': 0.08676701172261139,\n",
       " 'Laos': 0.055669321139805675,\n",
       " 'Chad': 0.6878206583117502,\n",
       " 'Costa Rica': 0.007100314970324623,\n",
       " 'El Salvador': 0.015720645324574362,\n",
       " 'Guyana': 0.00042146256494246705,\n",
       " 'Kyrgyzstan': 0.06289967741768114,\n",
       " 'Mongolia': 0.026818713493988247,\n",
       " 'Guatemala': 0.004100118695082382,\n",
       " 'Honduras': 0.002004362464220383,\n",
       " 'Nicaragua': 0.0023492776550031263,\n",
       " 'Tanzania': 0.17038424925657938,\n",
       " 'Uganda': 0.07255501792550352,\n",
       " 'Malawi': 1.6842652909945112e-05,\n",
       " 'Madagascar': 2.9900032622487527,\n",
       " 'Mauritania': 1.3503269849670052,\n",
       " 'Seychelles': 0.004642569697707713,\n",
       " 'Marshall Islands': 0.00017723046596210244}"
      ]
     },
     "execution_count": 52,
     "metadata": {},
     "output_type": "execute_result"
    }
   ],
   "source": [
    "for p in range(period+1):\n",
    "    nx.set_node_attributes(g, countries['infected'+str(p)].to_dict(), 'infected'+str(p))\n",
    "nx.get_node_attributes(g, 'infected5')"
   ]
  },
  {
   "cell_type": "code",
   "execution_count": 53,
   "metadata": {},
   "outputs": [
    {
     "ename": "SyntaxError",
     "evalue": "invalid syntax (<ipython-input-53-1229e4fbec83>, line 5)",
     "output_type": "error",
     "traceback": [
      "\u001b[0;36m  File \u001b[0;32m\"<ipython-input-53-1229e4fbec83>\"\u001b[0;36m, line \u001b[0;32m5\u001b[0m\n\u001b[0;31m    colors = [mapping[g.node[n]['infected5']] for n in nodes]]\u001b[0m\n\u001b[0m                                                             ^\u001b[0m\n\u001b[0;31mSyntaxError\u001b[0m\u001b[0;31m:\u001b[0m invalid syntax\n"
     ]
    }
   ],
   "source": [
    "# get unique groups\n",
    "groups = set(nx.get_node_attributes(g,'infected5').values())\n",
    "mapping = dict(zip(sorted(groups),count()))\n",
    "nodes = g.nodes()\n",
    "colors = [mapping[g.node[n]['infected5']] for n in nodes]]\n",
    "\n",
    "# drawing nodes and edges separately so we can capture collection for colobar\n",
    "pos = nx.spring_layout(g)\n",
    "ec = nx.draw_networkx_edges(g, pos, alpha=0.2)\n",
    "nc = nx.draw_networkx_nodes(g, pos, nodelist=nodes, node_color=colors, \n",
    "                            with_labels=False, node_size=100, cmap=plt.cm.jet)\n",
    "plt.colorbar(nc)\n",
    "plt.axis('off')\n",
    "plt.show()"
   ]
  },
  {
   "cell_type": "code",
   "execution_count": null,
   "metadata": {},
   "outputs": [],
   "source": []
  }
 ],
 "metadata": {
  "kernelspec": {
   "display_name": "Python 3",
   "language": "python",
   "name": "python3"
  },
  "language_info": {
   "codemirror_mode": {
    "name": "ipython",
    "version": 3
   },
   "file_extension": ".py",
   "mimetype": "text/x-python",
   "name": "python",
   "nbconvert_exporter": "python",
   "pygments_lexer": "ipython3",
   "version": "3.6.7"
  }
 },
 "nbformat": 4,
 "nbformat_minor": 2
}
